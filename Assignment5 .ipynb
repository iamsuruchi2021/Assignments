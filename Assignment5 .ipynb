{
 "cells": [
  {
   "cell_type": "code",
   "execution_count": null,
   "id": "9ac16182",
   "metadata": {},
   "outputs": [],
   "source": [
    "1. What does an empty dictionary&#39;s code look like?\n",
    "{}\n",
    "2. What is the value of a dictionary value with the key &#39;foo&#39; and the value 42?\n",
    "{&#39;foo&#39; : 42}\n",
    " \n",
    "3. What is the most significant distinction between a dictionary and a list?\n",
    " dictionary has key and values associated with it while lists have the values as entities\n",
    "\n",
    "4. What happens if you try to access spam[&#39;foo&#39;] if spam is {&#39;bar&#39;: 100}?\n",
    " 100. the corresponding value will be fetched                                         \n",
    "                                          \n",
    "5. If a dictionary is stored in spam, what is the difference between the expressions &#39;cat&#39; in spam and\n",
    "&#39;cat&#39; in spam.keys()?\n",
    " this value in spam will be key but in spam.keys it will be a sub part of keys  . means keys in one element of spam.keys() \n",
    "                                          \n",
    "6. If a dictionary is stored in spam, what is the difference between the expressions &#39;cat&#39; in spam and\n",
    "&#39;cat&#39; in spam.values()?\n",
    " this value in spam will be key but in spam.values it will be part of value \n",
    "                                          \n",
    "7.What is a shortcut for the following code?\n",
    "if &#39;color&#39; not in spam:\n",
    "spam[&#39;color&#39;] = &#39;black&#39;\n",
    "soln:\n",
    " d={&#39;color&#39 : &#39;black&#39}\n",
    " spam.update(d)   \n",
    "    \n",
    "8. How do you &quot;pretty print&quot; dictionary values using which module and function?\n",
    " question not clear    "
   ]
  }
 ],
 "metadata": {
  "kernelspec": {
   "display_name": "Python 3 (ipykernel)",
   "language": "python",
   "name": "python3"
  },
  "language_info": {
   "codemirror_mode": {
    "name": "ipython",
    "version": 3
   },
   "file_extension": ".py",
   "mimetype": "text/x-python",
   "name": "python",
   "nbconvert_exporter": "python",
   "pygments_lexer": "ipython3",
   "version": "3.9.7"
  }
 },
 "nbformat": 4,
 "nbformat_minor": 5
}
