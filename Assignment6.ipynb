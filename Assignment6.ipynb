{
 "cells": [
  {
   "cell_type": "code",
   "execution_count": null,
   "id": "04351986",
   "metadata": {},
   "outputs": [],
   "source": [
    "1. What are escape characters, and how do you use them?\n",
    "escape characters are used with strings, when illegal characters needs to be inserted in strings\n",
    "\n",
    "2. What do the escape characters n and t stand for?\n",
    "\\n is for new line\n",
    "\\t is for tab\n",
    "\n",
    "3. What is the way to include backslash characters in a string?\n",
    "\\\\. when printed the string will contain one backslash\n",
    "\n",
    "4. The string &quot;Howl&#39;s Moving Castle&quot; is a correct value. Why isn&#39;t the single quote character in the\n",
    "word Howl&#39;s not escaped a problem?\n",
    "\n",
    "The begining and end of the string is with double inverted commas so a single inverted comma is fine.\n",
    "\n",
    "5. How do you write a string of newlines if you don&#39;t want to use the n character?\n",
    "'''    ''' can be used as an alternative for new line\n",
    "\n",
    "\n",
    "6. What are the values of the given expressions?\n",
    "\n",
    "&#39;Hello, world!&#39;[1] - e\n",
    "&#39;Hello, world!&#39;[0:5] - Hello\n",
    "&#39;Hello, world!&#39;[:5] - Hello\n",
    "&#39;Hello, world!&#39;[3:]- lo world!\n",
    "\n",
    "7. What are the values of the following expressions?\n",
    "&#39;Hello&#39;.upper() HELLO WORLD!\n",
    "&#39;Hello&#39;.upper().isupper() True\n",
    "&#39;Hello&#39;.upper().lower() hello world!\n",
    "\n",
    "8. What are the values of the following expressions?\n",
    "&#39;Remember, remember, the fifth of July.&#39;.split() - ['Remember'', 'remember'','' 'the' 'fifth' 'of' 'July']\n",
    "\n",
    "&#39;-&#39;.join(&#39;There can only one.&#39;.split()) - There-can-only-one.\n",
    "\n",
    "9. What are the methods for right-justifying, left-justifying, and centering a string?\n",
    "rjust(), ljust(), and center()\n",
    "10. What is the best way to remove whitespace characters from the start or end?\n",
    "lstrip() and rstrip()"
   ]
  }
 ],
 "metadata": {
  "kernelspec": {
   "display_name": "Python 3 (ipykernel)",
   "language": "python",
   "name": "python3"
  },
  "language_info": {
   "codemirror_mode": {
    "name": "ipython",
    "version": 3
   },
   "file_extension": ".py",
   "mimetype": "text/x-python",
   "name": "python",
   "nbconvert_exporter": "python",
   "pygments_lexer": "ipython3",
   "version": "3.9.7"
  }
 },
 "nbformat": 4,
 "nbformat_minor": 5
}
