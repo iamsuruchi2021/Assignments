{
 "cells": [
  {
   "cell_type": "code",
   "execution_count": null,
   "id": "5fd80b8b",
   "metadata": {},
   "outputs": [],
   "source": [
    "1. Why are functions advantageous to have in your programs? \n",
    "Functions help us in grouping a common set of commands which can be used to manipulate different objects or do a specific task as per requirement . \n",
    "Also it makes our program readable and managable.\n",
    "\n",
    "2. When does the code in a function run: when it&#39;s specified or when it&#39;s called?\n",
    " A function runs when it is called in a program.   \n",
    "\n",
    "3. What statement creates a function?\n",
    "def functiona_name\n",
    "\n",
    "4. What is the difference between a function and a function call?\n",
    "Functions is a group of  common set of commands which can be used to manipulate different objects or do a specific task\n",
    "Whereas a function call is the procedure of executing a function. Without calling a function it wont run.\n",
    "\n",
    "5. How many global scopes are there in a Python program? How many local scopes?\n",
    "\n",
    "6. What happens to variables in a local scope when the function call returns?\n",
    "As the funttion is completed execution the local variables are deleted.\n",
    "\n",
    "7. What is the concept of a return value? Is it possible to have a return value in an expression?\n",
    "The return statement  at the end of the function places the control back to the function from where the call has been made.\n",
    "This also can be accompanied by any value that the function returns as specified after return.no return in expression.\n",
    "It assigns its outcome to a variable.\n",
    "\n",
    "8. If a function does not have a return statement, what is the return value of a call to that function?\n",
    "Nothing is returned in this case but control will be returned to the function from where call has been made.\n",
    "\n",
    "9. How do you make a function variable refer to the global variable?\n",
    "Global variables are accessible both inside and outside any function in that program.\n",
    "\n",
    "10. What is the data type of None?\n",
    "<class NoneType>\n",
    "\n",
    "11. What does the sentence import areallyourpetsnamederic do?\n",
    "This ststement will import the module and its classes and function in our program. After importing the module all its features are accesible.\n",
    "\n",
    "12. If you had a bacon() feature in a spam module, what would you call it after importing spam?\n",
    "spam.bacon()\n",
    "13. What can you do to save a programme from crashing if it encounters an error?\n",
    "exception handling helps in avoiding the crash of a program.\n",
    "\n",
    "except Exception as e :\n",
    "    ........\n",
    "    \n",
    "    \n",
    "14. What is the purpose of the try clause? What is the purpose of the except clause?\n",
    "try clause is where our program runs. Except cluse is given for the exception and error handling if the program under try cluse fails."
   ]
  }
 ],
 "metadata": {
  "kernelspec": {
   "display_name": "Python 3 (ipykernel)",
   "language": "python",
   "name": "python3"
  },
  "language_info": {
   "codemirror_mode": {
    "name": "ipython",
    "version": 3
   },
   "file_extension": ".py",
   "mimetype": "text/x-python",
   "name": "python",
   "nbconvert_exporter": "python",
   "pygments_lexer": "ipython3",
   "version": "3.9.7"
  }
 },
 "nbformat": 4,
 "nbformat_minor": 5
}
