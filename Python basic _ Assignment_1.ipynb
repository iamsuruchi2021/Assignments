{
 "cells": [
  {
   "cell_type": "code",
   "execution_count": null,
   "id": "a5be3901",
   "metadata": {},
   "outputs": [],
   "source": [
    "1. Write a Python program to print &quot;Hello Python&quot;?\n",
    "\n",
    "print(\"Hello Python\")\n",
    "\n",
    "2. Write a Python program to do arithmetical operations addition and division.?\n",
    "a=10\n",
    "b=20\n",
    "\n",
    "def add(a1,b1):\n",
    "    return a+b\n",
    "\n",
    "def div(a1,b1):\n",
    "    return a1/b1\n",
    "\n",
    "\n",
    "add(a,b)\n",
    "div(a,b)\n",
    "\n",
    "\n",
    "3. Write a Python program to find the area of a triangle?\n",
    "\n",
    "s=int(input(\"enter base\"))\n",
    "h=int(input(\"enter height\"))\n",
    "\n",
    "\n",
    "def area(s,h):\n",
    "    return ((1/2)*s*h)\n",
    "\n",
    "4. Write a Python program to swap two variables?\n",
    "\n",
    "a=1\n",
    "b=2\n",
    "\n",
    "def swap(a,b):\n",
    "    j=a\n",
    "    a=b\n",
    "    b=j\n",
    "    return a,b\n",
    "\n",
    "5. Write a Python program to generate a random number?\n",
    "import random\n",
    "a2 = random.randint(1,10)\n",
    "print(a2)"
   ]
  },
  {
   "cell_type": "code",
   "execution_count": 1,
   "id": "b38b5373",
   "metadata": {},
   "outputs": [],
   "source": [
    "a=10\n",
    "b=20\n",
    "\n",
    "def add(a1,b1):\n",
    "    return a1+b1\n",
    "\n",
    "\n",
    "def div(a1,b1):\n",
    "    return a1/b1\n",
    "\n"
   ]
  },
  {
   "cell_type": "code",
   "execution_count": 2,
   "id": "bd2b4203",
   "metadata": {},
   "outputs": [
    {
     "data": {
      "text/plain": [
       "30"
      ]
     },
     "execution_count": 2,
     "metadata": {},
     "output_type": "execute_result"
    }
   ],
   "source": [
    "add(a,b)"
   ]
  },
  {
   "cell_type": "code",
   "execution_count": 3,
   "id": "e593ee12",
   "metadata": {},
   "outputs": [
    {
     "data": {
      "text/plain": [
       "0.5"
      ]
     },
     "execution_count": 3,
     "metadata": {},
     "output_type": "execute_result"
    }
   ],
   "source": [
    "div(a,b)"
   ]
  },
  {
   "cell_type": "code",
   "execution_count": 9,
   "id": "d002de5a",
   "metadata": {},
   "outputs": [
    {
     "name": "stdout",
     "output_type": "stream",
     "text": [
      "enter base5\n",
      "enter height10\n"
     ]
    }
   ],
   "source": [
    "s=int(input(\"enter base\"))\n",
    "h=int(input(\"enter height\"))\n",
    "\n",
    "\n",
    "def area(s,h):\n",
    "    return ((1/2)*s*h)"
   ]
  },
  {
   "cell_type": "code",
   "execution_count": 10,
   "id": "07514c87",
   "metadata": {},
   "outputs": [
    {
     "data": {
      "text/plain": [
       "25.0"
      ]
     },
     "execution_count": 10,
     "metadata": {},
     "output_type": "execute_result"
    }
   ],
   "source": [
    "area(s,h)"
   ]
  },
  {
   "cell_type": "code",
   "execution_count": 12,
   "id": "2ce96741",
   "metadata": {},
   "outputs": [],
   "source": [
    "a=1\n",
    "b=2\n",
    "\n",
    "def swap(a,b):\n",
    "    j=a\n",
    "    a=b\n",
    "    b=j\n",
    "    return a,b"
   ]
  },
  {
   "cell_type": "code",
   "execution_count": 13,
   "id": "4a856db5",
   "metadata": {},
   "outputs": [
    {
     "data": {
      "text/plain": [
       "(2, 1)"
      ]
     },
     "execution_count": 13,
     "metadata": {},
     "output_type": "execute_result"
    }
   ],
   "source": [
    "swap(a,b)"
   ]
  },
  {
   "cell_type": "code",
   "execution_count": 17,
   "id": "9cf50853",
   "metadata": {},
   "outputs": [
    {
     "name": "stdout",
     "output_type": "stream",
     "text": [
      "6\n"
     ]
    }
   ],
   "source": [
    "import random\n",
    "a2 = random.randint(1,10)\n",
    "print(a2)"
   ]
  },
  {
   "cell_type": "code",
   "execution_count": null,
   "id": "590ec5ea",
   "metadata": {},
   "outputs": [],
   "source": []
  },
  {
   "cell_type": "code",
   "execution_count": null,
   "id": "f53144d2",
   "metadata": {},
   "outputs": [],
   "source": []
  }
 ],
 "metadata": {
  "kernelspec": {
   "display_name": "Python 3 (ipykernel)",
   "language": "python",
   "name": "python3"
  },
  "language_info": {
   "codemirror_mode": {
    "name": "ipython",
    "version": 3
   },
   "file_extension": ".py",
   "mimetype": "text/x-python",
   "name": "python",
   "nbconvert_exporter": "python",
   "pygments_lexer": "ipython3",
   "version": "3.9.7"
  }
 },
 "nbformat": 4,
 "nbformat_minor": 5
}
