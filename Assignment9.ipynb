{
 "cells": [
  {
   "cell_type": "code",
   "execution_count": null,
   "id": "42eeb40f",
   "metadata": {},
   "outputs": [],
   "source": [
    "1. To what does a relative path refer?\n",
    "The relative path of a file is its location relative to the current working directory\n",
    "\n",
    "2. What does an absolute path start with your operating system?\n",
    "it is the full directory path including file name.\n",
    "\n",
    "3. What do the functions os.getcwd() and os.chdir() do?\n",
    "os.getcwd()-fetches the current working directory.\n",
    "os.chdir() - changes the current dirctory to the path of the directory passed.\n",
    "\n",
    "4. What are the . and .. folders?\n",
    "Single dot (.) represents the directory you are in and double dot ( .. ) represents the parent directory.\n",
    "\n",
    "5. In C:\\bacon\\eggs\\spam.txt, which part is the dir name, and which part is the base name?\n",
    "    dir- eggs\n",
    "    base- C\n",
    "6. What are the three “mode” arguments that can be passed to the open() function?\n",
    "three modes are read r \n",
    "                write w \n",
    "                append a\n",
    "              \n",
    "7. What happens if an existing file is opened in write mode?\n",
    " its previous contents will be replaced by the neww addition.\n",
    "    \n",
    "8. How do you tell the difference between read() and readlines()?\n",
    "The main difference between read () and readLines () is read () reads the entire content of the file all at once \n",
    "whereas readlines () reads each line at a time\n",
    "\n",
    "9. What data structure does a shelf value resemble?\n",
    "dictionary"
   ]
  },
  {
   "cell_type": "code",
   "execution_count": null,
   "id": "3079b2f2",
   "metadata": {},
   "outputs": [],
   "source": []
  }
 ],
 "metadata": {
  "kernelspec": {
   "display_name": "Python 3 (ipykernel)",
   "language": "python",
   "name": "python3"
  },
  "language_info": {
   "codemirror_mode": {
    "name": "ipython",
    "version": 3
   },
   "file_extension": ".py",
   "mimetype": "text/x-python",
   "name": "python",
   "nbconvert_exporter": "python",
   "pygments_lexer": "ipython3",
   "version": "3.9.7"
  }
 },
 "nbformat": 4,
 "nbformat_minor": 5
}
