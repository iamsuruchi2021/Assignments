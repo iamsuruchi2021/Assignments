{
 "cells": [
  {
   "cell_type": "code",
   "execution_count": null,
   "id": "af19d64c",
   "metadata": {},
   "outputs": [],
   "source": [
    "1. Write a Python program to convert kilometers to miles?\n",
    "k=int(input(\"input distance in km\"))\n",
    "\n",
    "def con(k):\n",
    "    m=k*0.6213711\n",
    "    return m\n",
    "\n",
    "2. Write a Python program to convert Celsius to Fahrenheit?\n",
    "\n",
    "c=int(input(\"input temp in celsius\"))\n",
    "def contemp(c):\n",
    "    f= c*(9/5) + 32\n",
    "    return f\n",
    "\n",
    "\n",
    "3. Write a Python program to display calendar?\n",
    "\n",
    "\n",
    "4. Write a Python program to solve quadratic equation?\n",
    "\n",
    "\n",
    "5. Write a Python program to swap two variables without temp variable?\n",
    "\n"
   ]
  },
  {
   "cell_type": "code",
   "execution_count": 1,
   "id": "29426204",
   "metadata": {},
   "outputs": [],
   "source": [
    "def con(k):\n",
    "    m=k*0.6213711\n",
    "    return m"
   ]
  },
  {
   "cell_type": "code",
   "execution_count": 2,
   "id": "4bc2d16c",
   "metadata": {},
   "outputs": [
    {
     "data": {
      "text/plain": [
       "18.641133"
      ]
     },
     "execution_count": 2,
     "metadata": {},
     "output_type": "execute_result"
    }
   ],
   "source": [
    "con(30)"
   ]
  },
  {
   "cell_type": "code",
   "execution_count": 5,
   "id": "6db34f37",
   "metadata": {},
   "outputs": [
    {
     "name": "stdout",
     "output_type": "stream",
     "text": [
      "input temp in celsius37\n"
     ]
    }
   ],
   "source": [
    "c=int(input(\"input temp in celsius\"))\n",
    "def contemp(c):\n",
    "    f= c*(9/5) + 32\n",
    "    return f"
   ]
  },
  {
   "cell_type": "code",
   "execution_count": 6,
   "id": "d0a5726c",
   "metadata": {},
   "outputs": [
    {
     "data": {
      "text/plain": [
       "98.60000000000001"
      ]
     },
     "execution_count": 6,
     "metadata": {},
     "output_type": "execute_result"
    }
   ],
   "source": [
    "contemp(c)"
   ]
  },
  {
   "cell_type": "code",
   "execution_count": null,
   "id": "5f811225",
   "metadata": {},
   "outputs": [],
   "source": []
  }
 ],
 "metadata": {
  "kernelspec": {
   "display_name": "Python 3 (ipykernel)",
   "language": "python",
   "name": "python3"
  },
  "language_info": {
   "codemirror_mode": {
    "name": "ipython",
    "version": 3
   },
   "file_extension": ".py",
   "mimetype": "text/x-python",
   "name": "python",
   "nbconvert_exporter": "python",
   "pygments_lexer": "ipython3",
   "version": "3.9.7"
  }
 },
 "nbformat": 4,
 "nbformat_minor": 5
}
