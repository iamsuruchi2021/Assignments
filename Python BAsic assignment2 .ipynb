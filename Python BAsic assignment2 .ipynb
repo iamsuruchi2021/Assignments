{
 "cells": [
  {
   "cell_type": "code",
   "execution_count": 2,
   "id": "abf00517",
   "metadata": {},
   "outputs": [
    {
     "name": "stdout",
     "output_type": "stream",
     "text": [
      "Object `miles` not found.\n",
      "2\n",
      "1.242742\n"
     ]
    }
   ],
   "source": [
    "#1. Write a Python program to convert kilometers to miles?\n",
    "\n",
    "y=input()\n",
    "x=int(y)\n",
    "print(0.621371*x)"
   ]
  },
  {
   "cell_type": "code",
   "execution_count": 3,
   "id": "80431042",
   "metadata": {},
   "outputs": [
    {
     "name": "stdout",
     "output_type": "stream",
     "text": [
      "32\n",
      "89.6\n"
     ]
    }
   ],
   "source": [
    "#2. Write a Python program to convert Celsius to Fahrenheit?\n",
    "\n",
    "y=input()\n",
    "x=int(y)\n",
    "print(1.8*x +32)"
   ]
  },
  {
   "cell_type": "code",
   "execution_count": 12,
   "id": "0abd4372",
   "metadata": {},
   "outputs": [
    {
     "data": {
      "text/plain": [
       "'                                  2021\\n\\n      January                   February                   March\\nMo Tu We Th Fr Sa Su      Mo Tu We Th Fr Sa Su      Mo Tu We Th Fr Sa Su\\n             1  2  3       1  2  3  4  5  6  7       1  2  3  4  5  6  7\\n 4  5  6  7  8  9 10       8  9 10 11 12 13 14       8  9 10 11 12 13 14\\n11 12 13 14 15 16 17      15 16 17 18 19 20 21      15 16 17 18 19 20 21\\n18 19 20 21 22 23 24      22 23 24 25 26 27 28      22 23 24 25 26 27 28\\n25 26 27 28 29 30 31                                29 30 31\\n\\n       April                      May                       June\\nMo Tu We Th Fr Sa Su      Mo Tu We Th Fr Sa Su      Mo Tu We Th Fr Sa Su\\n          1  2  3  4                      1  2          1  2  3  4  5  6\\n 5  6  7  8  9 10 11       3  4  5  6  7  8  9       7  8  9 10 11 12 13\\n12 13 14 15 16 17 18      10 11 12 13 14 15 16      14 15 16 17 18 19 20\\n19 20 21 22 23 24 25      17 18 19 20 21 22 23      21 22 23 24 25 26 27\\n26 27 28 29 30            24 25 26 27 28 29 30      28 29 30\\n                          31\\n\\n        July                     August                  September\\nMo Tu We Th Fr Sa Su      Mo Tu We Th Fr Sa Su      Mo Tu We Th Fr Sa Su\\n          1  2  3  4                         1             1  2  3  4  5\\n 5  6  7  8  9 10 11       2  3  4  5  6  7  8       6  7  8  9 10 11 12\\n12 13 14 15 16 17 18       9 10 11 12 13 14 15      13 14 15 16 17 18 19\\n19 20 21 22 23 24 25      16 17 18 19 20 21 22      20 21 22 23 24 25 26\\n26 27 28 29 30 31         23 24 25 26 27 28 29      27 28 29 30\\n                          30 31\\n\\n      October                   November                  December\\nMo Tu We Th Fr Sa Su      Mo Tu We Th Fr Sa Su      Mo Tu We Th Fr Sa Su\\n             1  2  3       1  2  3  4  5  6  7             1  2  3  4  5\\n 4  5  6  7  8  9 10       8  9 10 11 12 13 14       6  7  8  9 10 11 12\\n11 12 13 14 15 16 17      15 16 17 18 19 20 21      13 14 15 16 17 18 19\\n18 19 20 21 22 23 24      22 23 24 25 26 27 28      20 21 22 23 24 25 26\\n25 26 27 28 29 30 31      29 30                     27 28 29 30 31\\n'"
      ]
     },
     "execution_count": 12,
     "metadata": {},
     "output_type": "execute_result"
    }
   ],
   "source": [
    "#3. Write a Python program to display calendar?\n",
    "import calendar\n",
    "calendar.calendar(2021)"
   ]
  },
  {
   "cell_type": "code",
   "execution_count": 15,
   "id": "0fec9425",
   "metadata": {},
   "outputs": [
    {
     "name": "stdout",
     "output_type": "stream",
     "text": [
      "Object `equation` not found.\n",
      "Enter a: 1\n",
      "Enter b: 2\n",
      "Enter c: 1\n",
      "0\n",
      "-1.0\n",
      "-1.0\n"
     ]
    }
   ],
   "source": [
    "#4. Write a Python program to solve quadratic equation?\n",
    "a = int(input('Enter a: '))\n",
    "b = int(input('Enter b: '))\n",
    "c = int(input('Enter c: '))\n",
    "\n",
    "d= b**2 -(4*a*c)\n",
    "print(d)\n",
    "print((-b+d)/2*a*c)\n",
    "print((-b-d)/2*a*c)"
   ]
  },
  {
   "cell_type": "code",
   "execution_count": 19,
   "id": "e2a270d5",
   "metadata": {},
   "outputs": [
    {
     "name": "stdout",
     "output_type": "stream",
     "text": [
      "number1:2\n",
      "number2:3\n",
      "3\n",
      "2\n"
     ]
    }
   ],
   "source": [
    "#5. Write a Python program to swap two variables without temp variable?\n",
    "x=int(input('number1:'))\n",
    "y=int(input('number2:'))\n",
    "a=x+y\n",
    "x=a-x\n",
    "y=a-y\n",
    "print(x)\n",
    "print(y)"
   ]
  },
  {
   "cell_type": "code",
   "execution_count": null,
   "id": "6bd146bb",
   "metadata": {},
   "outputs": [],
   "source": []
  }
 ],
 "metadata": {
  "kernelspec": {
   "display_name": "Python 3 (ipykernel)",
   "language": "python",
   "name": "python3"
  },
  "language_info": {
   "codemirror_mode": {
    "name": "ipython",
    "version": 3
   },
   "file_extension": ".py",
   "mimetype": "text/x-python",
   "name": "python",
   "nbconvert_exporter": "python",
   "pygments_lexer": "ipython3",
   "version": "3.9.7"
  }
 },
 "nbformat": 4,
 "nbformat_minor": 5
}
