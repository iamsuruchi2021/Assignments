{
 "cells": [
  {
   "cell_type": "code",
   "execution_count": null,
   "id": "a6bfa78e",
   "metadata": {},
   "outputs": [],
   "source": [
    "1. Is the Python Standard Library included with PyInputPlus?\n",
    "No\n",
    "\n",
    "2. Why is PyInputPlus commonly imported with import pyinputplus as pypi?\n",
    "After the pip install we need to import pyinputplus to import the module so its function can be accessed .\n",
    "\n",
    "3. How do you distinguish between inputInt() and inputFloat()?\n",
    "inputInt() takes input as integer values while inputFloat() considers both float values and integer values.\n",
    "\n",
    "4. Using PyInputPlus, how do you ensure that the user enters a whole number between 0 and 99?\n",
    "import pyinputplus as p\n",
    "i= p.inputInt(min=0 , lessThan = 99)\n",
    "\n",
    "5. What is transferred to the keyword arguments allowRegexes and blockRegexes?\n",
    "The allowRegexes and blockRegexes keyword arguments take a list of regular expression strings to\n",
    "determine what the PyInputPlus function will accept or reject as valid input\n",
    "\n",
    "6. If a blank input is entered three times, what does inputStr(limit=3) do?\n",
    "retry limit exception \n",
    "\n",
    "7. If blank input is entered three times, what does inputStr(limit=3, default=&#39;hello&#39;) do?\n",
    " it will take default value after third blank attempt"
   ]
  },
  {
   "cell_type": "code",
   "execution_count": null,
   "id": "d67a2920",
   "metadata": {},
   "outputs": [],
   "source": []
  }
 ],
 "metadata": {
  "kernelspec": {
   "display_name": "Python 3 (ipykernel)",
   "language": "python",
   "name": "python3"
  },
  "language_info": {
   "codemirror_mode": {
    "name": "ipython",
    "version": 3
   },
   "file_extension": ".py",
   "mimetype": "text/x-python",
   "name": "python",
   "nbconvert_exporter": "python",
   "pygments_lexer": "ipython3",
   "version": "3.9.7"
  }
 },
 "nbformat": 4,
 "nbformat_minor": 5
}
