{
 "cells": [
  {
   "cell_type": "code",
   "execution_count": null,
   "id": "c08d9b02",
   "metadata": {},
   "outputs": [],
   "source": [
    "1. In the below elements which of them are values or an expression? eg:- values can be integer or string and expressions will be mathematical operators.\n",
    "*  expresssion\n",
    "'hello' values\n",
    "-87.8 values\n",
    "-  expresssion\n",
    "/  expresssion\n",
    "    • expresssion\n",
    "6  value\n",
    "\n",
    "2. What is the difference between string and variable?\n",
    "Str is the data type which a variable can have. Variable is an object we assign values to .\n",
    "3. Describe three different data types.\n",
    "Tupls dictionary list\n",
    "4. What is an expression made up of? What do all expressions do? Expression are the simple command of opertors to manipulate variable\n",
    "5. This assignment statements, like spam = 10. What is the difference between an expression and a statement?  \n",
    "6. After running the following code, what does the variable bacon contain?\n",
    "bacon = 22\n",
    "bacon + 1\n",
    "22\n",
    "7. What should the values of the following two terms be?\n",
    "'spam' + 'spamspam'\n",
    "'spam' * 3\n",
    "spamspamspam\n",
    "\n",
    "8. Why is eggs a valid variable name while 100 is invalid?\n",
    "As per python rules a variable can start with a letter . It can contain letters and numbers and underscores\n",
    "9. What three functions can be used to get the integer, floating-point number, or string version of a value?\n",
    "Int(), float(), str()\n",
    "10. Why does this expression cause an error? How can you fix it?\n",
    "'I have eaten ' + 99 + ' burritos.'\n",
    "here 9 is not of the type str . Thus need to change t to str type by typecasting.\n",
    "\n"
   ]
  }
 ],
 "metadata": {
  "kernelspec": {
   "display_name": "Python 3 (ipykernel)",
   "language": "python",
   "name": "python3"
  },
  "language_info": {
   "codemirror_mode": {
    "name": "ipython",
    "version": 3
   },
   "file_extension": ".py",
   "mimetype": "text/x-python",
   "name": "python",
   "nbconvert_exporter": "python",
   "pygments_lexer": "ipython3",
   "version": "3.9.7"
  }
 },
 "nbformat": 4,
 "nbformat_minor": 5
}
